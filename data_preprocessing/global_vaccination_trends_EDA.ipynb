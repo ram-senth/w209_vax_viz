{
  "nbformat": 4,
  "nbformat_minor": 0,
  "metadata": {
    "colab": {
      "provenance": []
    },
    "kernelspec": {
      "name": "python3",
      "display_name": "Python 3"
    },
    "language_info": {
      "name": "python"
    }
  },
  "cells": [
    {
      "cell_type": "code",
      "execution_count": null,
      "metadata": {
        "id": "WWSGUMAgjJHF"
      },
      "outputs": [],
      "source": [
        "import numpy as np\n",
        "import pandas as pd"
      ]
    },
    {
      "cell_type": "markdown",
      "source": [
        "# Impact of Pandemic\n",
        "The below script takes the UNICEF dataset as input and creates a summarized version with the a new column showing how DTP first shot coverage changed between 2019 and 2020 for each country. This script depends on the ../data/unicef_dtp_first_shot_coverage_2010_2023.csv file that has the data exported from this [UNICEF data query](https://data.unicef.org/resources/data_explorer/unicef_f/?ag=UNICEF&df=GLOBAL_DATAFLOW&ver=1.0&dq=AFG+ALB+DZA+ASM+AND+AGO+AIA+ATG+ARG+ARM+ABW+AUS+AUT+AZE+BHS+BHR+BGD+BRB+BLR+BEL+BLZ+BEN+BMU+BTN+BOL+BES+BIH+BWA+BRA+VGB+BRN+BGR+BFA+BDI+CPV+KHM+CMR+CAN+CYM+CAF+TCD+CHI+CHL+HKG+CHN+COL+COM+COG+COK+CRI+CIV+HRV+CUB+CUW+CYP+CZE+PRK+COD+DNK+DJI+DMA+DOM+ECU+EGY+SLV+GNQ+ERI+EST+SWZ+ETH+FLK+FRO+FJI+FIN+FRA+GUF+PYF+GAB+GMB+GEO+DEU+GHA+GIB+GRC+GRL+GRD+GLP+GUM+GTM+GNB+GIN+GUY+HTI+VAT+HND+HUN+ISL+IND+IDN+IRN+IRQ+IRL+IMN+ISR+ITA+JAM+JPN+JOR+KAZ+KEN+KIR+XKX+KWT+KGZ+LAO+LVA+LBN+LSO+LBR+LBY+LIE+LTU+LUX+MAC+MDG+MWI+MYS+MDV+MLI+MLT+MHL+MTQ+MRT+MUS+MYT+MEX+FSM+MCO+MNG+MNE+MSR+MAR+MOZ+MMR+NAM+NRU+NPL+NLD+NCL+NZL+NIC+NER+NGA+MKD+NIU+MNP+NOR+OMN+TWN+PAK+PLW+PAN+PNG+PRY+PER+PHL+POL+PRT+PRI+QAT+KOR+MDA+REU+ROU+RUS+RWA+BLM+SHN+KNA+LCA+SXM+MAF+SPM+VCT+WSM+SMR+STP+SAU+SEN+SRB+SYC+SLE+SGP+SVK+SVN+SLB+SOM+ZAF+SSD+ESP+LKA+PSE+SDN+SUR+SWE+CHE+SYR+TJK+THA+TLS+TGO+TKL+TON+TTO+TUN+TUR+TKM+TCA+TUV+UGA+UKR+ARE+GBR+TZA+USA+URY+UZB+VUT+VEN+VNM+VIR+WLF+YEM+ZMB+ZWE+WHO_REG_GLOBAL+WHO_AFRO+WHO_AMRO+WHO_EMRO+WHO_EURO+WHO_SEARO+WHO_WPRO.IMMUNISATION+IM_DTP1..&startPeriod=2010&endPeriod=2020&lastnobservations=1)."
      ],
      "metadata": {
        "id": "fGLnqXlvB_tV"
      }
    },
    {
      "cell_type": "code",
      "source": [
        "df = pd.read_csv(\"/content/unicef_dtp_first_shot_coverage_2010_2023.csv\")"
      ],
      "metadata": {
        "id": "mXQoEUOI41x7"
      },
      "execution_count": null,
      "outputs": []
    },
    {
      "cell_type": "code",
      "source": [
        "df_countries = df[(~df['REF_AREA:Geographic area'].str.startswith('WHO'))  & ((df['TIME_PERIOD:Time period'] == 2019) | (df['TIME_PERIOD:Time period'] == 2020)| (df['TIME_PERIOD:Time period'] == 2021))]"
      ],
      "metadata": {
        "id": "RvmUNUA-8cSK"
      },
      "execution_count": null,
      "outputs": []
    },
    {
      "cell_type": "code",
      "source": [
        "df_pivoted = df_countries.pivot_table('OBS_VALUE:Observation Value', ['REF_AREA:Geographic area'], 'TIME_PERIOD:Time period')"
      ],
      "metadata": {
        "id": "gj7Yy_Gy8qSy"
      },
      "execution_count": null,
      "outputs": []
    },
    {
      "cell_type": "code",
      "source": [
        "df_pivoted['delta'] = df_pivoted[2020] - df_pivoted[2019]"
      ],
      "metadata": {
        "id": "A3DHLQd056r0"
      },
      "execution_count": null,
      "outputs": []
    },
    {
      "cell_type": "code",
      "source": [
        "df_pivoted['delta_rank'] = df_pivoted['delta'].rank()"
      ],
      "metadata": {
        "id": "123cg1PYBCcU"
      },
      "execution_count": null,
      "outputs": []
    },
    {
      "cell_type": "code",
      "source": [
        "df_pivoted"
      ],
      "metadata": {
        "colab": {
          "base_uri": "https://localhost:8080/",
          "height": 655
        },
        "id": "xpwtT_NZKr3X",
        "outputId": "22deef4c-1898-4f0f-8b26-45877bdf4632"
      },
      "execution_count": null,
      "outputs": [
        {
          "output_type": "execute_result",
          "data": {
            "text/plain": [
              "TIME_PERIOD:Time period    2019  2020  2021  delta  delta_rank\n",
              "REF_AREA:Geographic area                                      \n",
              "AFG: Afghanistan             75    78    74      3       188.5\n",
              "AGO: Angola                  67    61    57     -6        30.5\n",
              "ALB: Albania                 99    99    98      0       125.0\n",
              "AND: Andorra                 99    99    99      0       125.0\n",
              "ARE: United Arab Emirates    99    90    96     -9        13.0\n",
              "...                         ...   ...   ...    ...         ...\n",
              "WSM: Samoa                   97    99    96      2       184.0\n",
              "YEM: Yemen                   81    83    82      2       184.0\n",
              "ZAF: South Africa            87    88    91      1       174.0\n",
              "ZMB: Zambia                  94    88    94     -6        30.5\n",
              "ZWE: Zimbabwe                94    93    93     -1        75.0\n",
              "\n",
              "[195 rows x 5 columns]"
            ],
            "text/html": [
              "\n",
              "  <div id=\"df-d17570ab-88c2-45a2-9ffa-054f6d5d9d0f\">\n",
              "    <div class=\"colab-df-container\">\n",
              "      <div>\n",
              "<style scoped>\n",
              "    .dataframe tbody tr th:only-of-type {\n",
              "        vertical-align: middle;\n",
              "    }\n",
              "\n",
              "    .dataframe tbody tr th {\n",
              "        vertical-align: top;\n",
              "    }\n",
              "\n",
              "    .dataframe thead th {\n",
              "        text-align: right;\n",
              "    }\n",
              "</style>\n",
              "<table border=\"1\" class=\"dataframe\">\n",
              "  <thead>\n",
              "    <tr style=\"text-align: right;\">\n",
              "      <th>TIME_PERIOD:Time period</th>\n",
              "      <th>2019</th>\n",
              "      <th>2020</th>\n",
              "      <th>2021</th>\n",
              "      <th>delta</th>\n",
              "      <th>delta_rank</th>\n",
              "    </tr>\n",
              "    <tr>\n",
              "      <th>REF_AREA:Geographic area</th>\n",
              "      <th></th>\n",
              "      <th></th>\n",
              "      <th></th>\n",
              "      <th></th>\n",
              "      <th></th>\n",
              "    </tr>\n",
              "  </thead>\n",
              "  <tbody>\n",
              "    <tr>\n",
              "      <th>AFG: Afghanistan</th>\n",
              "      <td>75</td>\n",
              "      <td>78</td>\n",
              "      <td>74</td>\n",
              "      <td>3</td>\n",
              "      <td>188.5</td>\n",
              "    </tr>\n",
              "    <tr>\n",
              "      <th>AGO: Angola</th>\n",
              "      <td>67</td>\n",
              "      <td>61</td>\n",
              "      <td>57</td>\n",
              "      <td>-6</td>\n",
              "      <td>30.5</td>\n",
              "    </tr>\n",
              "    <tr>\n",
              "      <th>ALB: Albania</th>\n",
              "      <td>99</td>\n",
              "      <td>99</td>\n",
              "      <td>98</td>\n",
              "      <td>0</td>\n",
              "      <td>125.0</td>\n",
              "    </tr>\n",
              "    <tr>\n",
              "      <th>AND: Andorra</th>\n",
              "      <td>99</td>\n",
              "      <td>99</td>\n",
              "      <td>99</td>\n",
              "      <td>0</td>\n",
              "      <td>125.0</td>\n",
              "    </tr>\n",
              "    <tr>\n",
              "      <th>ARE: United Arab Emirates</th>\n",
              "      <td>99</td>\n",
              "      <td>90</td>\n",
              "      <td>96</td>\n",
              "      <td>-9</td>\n",
              "      <td>13.0</td>\n",
              "    </tr>\n",
              "    <tr>\n",
              "      <th>...</th>\n",
              "      <td>...</td>\n",
              "      <td>...</td>\n",
              "      <td>...</td>\n",
              "      <td>...</td>\n",
              "      <td>...</td>\n",
              "    </tr>\n",
              "    <tr>\n",
              "      <th>WSM: Samoa</th>\n",
              "      <td>97</td>\n",
              "      <td>99</td>\n",
              "      <td>96</td>\n",
              "      <td>2</td>\n",
              "      <td>184.0</td>\n",
              "    </tr>\n",
              "    <tr>\n",
              "      <th>YEM: Yemen</th>\n",
              "      <td>81</td>\n",
              "      <td>83</td>\n",
              "      <td>82</td>\n",
              "      <td>2</td>\n",
              "      <td>184.0</td>\n",
              "    </tr>\n",
              "    <tr>\n",
              "      <th>ZAF: South Africa</th>\n",
              "      <td>87</td>\n",
              "      <td>88</td>\n",
              "      <td>91</td>\n",
              "      <td>1</td>\n",
              "      <td>174.0</td>\n",
              "    </tr>\n",
              "    <tr>\n",
              "      <th>ZMB: Zambia</th>\n",
              "      <td>94</td>\n",
              "      <td>88</td>\n",
              "      <td>94</td>\n",
              "      <td>-6</td>\n",
              "      <td>30.5</td>\n",
              "    </tr>\n",
              "    <tr>\n",
              "      <th>ZWE: Zimbabwe</th>\n",
              "      <td>94</td>\n",
              "      <td>93</td>\n",
              "      <td>93</td>\n",
              "      <td>-1</td>\n",
              "      <td>75.0</td>\n",
              "    </tr>\n",
              "  </tbody>\n",
              "</table>\n",
              "<p>195 rows × 5 columns</p>\n",
              "</div>\n",
              "      <button class=\"colab-df-convert\" onclick=\"convertToInteractive('df-d17570ab-88c2-45a2-9ffa-054f6d5d9d0f')\"\n",
              "              title=\"Convert this dataframe to an interactive table.\"\n",
              "              style=\"display:none;\">\n",
              "        \n",
              "  <svg xmlns=\"http://www.w3.org/2000/svg\" height=\"24px\"viewBox=\"0 0 24 24\"\n",
              "       width=\"24px\">\n",
              "    <path d=\"M0 0h24v24H0V0z\" fill=\"none\"/>\n",
              "    <path d=\"M18.56 5.44l.94 2.06.94-2.06 2.06-.94-2.06-.94-.94-2.06-.94 2.06-2.06.94zm-11 1L8.5 8.5l.94-2.06 2.06-.94-2.06-.94L8.5 2.5l-.94 2.06-2.06.94zm10 10l.94 2.06.94-2.06 2.06-.94-2.06-.94-.94-2.06-.94 2.06-2.06.94z\"/><path d=\"M17.41 7.96l-1.37-1.37c-.4-.4-.92-.59-1.43-.59-.52 0-1.04.2-1.43.59L10.3 9.45l-7.72 7.72c-.78.78-.78 2.05 0 2.83L4 21.41c.39.39.9.59 1.41.59.51 0 1.02-.2 1.41-.59l7.78-7.78 2.81-2.81c.8-.78.8-2.07 0-2.86zM5.41 20L4 18.59l7.72-7.72 1.47 1.35L5.41 20z\"/>\n",
              "  </svg>\n",
              "      </button>\n",
              "      \n",
              "  <style>\n",
              "    .colab-df-container {\n",
              "      display:flex;\n",
              "      flex-wrap:wrap;\n",
              "      gap: 12px;\n",
              "    }\n",
              "\n",
              "    .colab-df-convert {\n",
              "      background-color: #E8F0FE;\n",
              "      border: none;\n",
              "      border-radius: 50%;\n",
              "      cursor: pointer;\n",
              "      display: none;\n",
              "      fill: #1967D2;\n",
              "      height: 32px;\n",
              "      padding: 0 0 0 0;\n",
              "      width: 32px;\n",
              "    }\n",
              "\n",
              "    .colab-df-convert:hover {\n",
              "      background-color: #E2EBFA;\n",
              "      box-shadow: 0px 1px 2px rgba(60, 64, 67, 0.3), 0px 1px 3px 1px rgba(60, 64, 67, 0.15);\n",
              "      fill: #174EA6;\n",
              "    }\n",
              "\n",
              "    [theme=dark] .colab-df-convert {\n",
              "      background-color: #3B4455;\n",
              "      fill: #D2E3FC;\n",
              "    }\n",
              "\n",
              "    [theme=dark] .colab-df-convert:hover {\n",
              "      background-color: #434B5C;\n",
              "      box-shadow: 0px 1px 3px 1px rgba(0, 0, 0, 0.15);\n",
              "      filter: drop-shadow(0px 1px 2px rgba(0, 0, 0, 0.3));\n",
              "      fill: #FFFFFF;\n",
              "    }\n",
              "  </style>\n",
              "\n",
              "      <script>\n",
              "        const buttonEl =\n",
              "          document.querySelector('#df-d17570ab-88c2-45a2-9ffa-054f6d5d9d0f button.colab-df-convert');\n",
              "        buttonEl.style.display =\n",
              "          google.colab.kernel.accessAllowed ? 'block' : 'none';\n",
              "\n",
              "        async function convertToInteractive(key) {\n",
              "          const element = document.querySelector('#df-d17570ab-88c2-45a2-9ffa-054f6d5d9d0f');\n",
              "          const dataTable =\n",
              "            await google.colab.kernel.invokeFunction('convertToInteractive',\n",
              "                                                     [key], {});\n",
              "          if (!dataTable) return;\n",
              "\n",
              "          const docLinkHtml = 'Like what you see? Visit the ' +\n",
              "            '<a target=\"_blank\" href=https://colab.research.google.com/notebooks/data_table.ipynb>data table notebook</a>'\n",
              "            + ' to learn more about interactive tables.';\n",
              "          element.innerHTML = '';\n",
              "          dataTable['output_type'] = 'display_data';\n",
              "          await google.colab.output.renderOutput(dataTable, element);\n",
              "          const docLink = document.createElement('div');\n",
              "          docLink.innerHTML = docLinkHtml;\n",
              "          element.appendChild(docLink);\n",
              "        }\n",
              "      </script>\n",
              "    </div>\n",
              "  </div>\n",
              "  "
            ]
          },
          "metadata": {},
          "execution_count": 49
        }
      ]
    },
    {
      "cell_type": "code",
      "source": [
        "df_pivoted.to_csv(\"/content/unicef_dtp_first_shot_coverage_2010_2023_summary.csv\")"
      ],
      "metadata": {
        "id": "d0EJyjIcBazD"
      },
      "execution_count": null,
      "outputs": []
    },
    {
      "cell_type": "code",
      "source": [],
      "metadata": {
        "id": "hxeeHvR4B0nE"
      },
      "execution_count": null,
      "outputs": []
    }
  ]
}